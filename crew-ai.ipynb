{
  "nbformat": 4,
  "nbformat_minor": 0,
  "metadata": {
    "colab": {
      "provenance": [],
      "authorship_tag": "ABX9TyMljhY1QkQSbMZqZoBBxbUj",
      "include_colab_link": true
    },
    "kernelspec": {
      "name": "python3",
      "display_name": "Python 3"
    },
    "language_info": {
      "name": "python"
    }
  },
  "cells": [
    {
      "cell_type": "markdown",
      "metadata": {
        "id": "view-in-github",
        "colab_type": "text"
      },
      "source": [
        "<a href=\"https://colab.research.google.com/github/mertcan-basut/agentic/blob/main/crew-ai.ipynb\" target=\"_parent\"><img src=\"https://colab.research.google.com/assets/colab-badge.svg\" alt=\"Open In Colab\"/></a>"
      ]
    },
    {
      "cell_type": "code",
      "execution_count": 1,
      "metadata": {
        "id": "GFDc5h83sv3w"
      },
      "outputs": [],
      "source": [
        "%pip install -qU crewai==0.102.0"
      ]
    },
    {
      "cell_type": "code",
      "source": [
        "from crewai import Agent, Task, Crew\n",
        "from IPython.display import Markdown"
      ],
      "metadata": {
        "id": "DEkBWww9Rmct"
      },
      "execution_count": 12,
      "outputs": []
    },
    {
      "cell_type": "code",
      "source": [
        "from google.colab import userdata\n",
        "import os\n",
        "\n",
        "os.environ['OPENAI_API_KEY'] = userdata.get('OPENAI_API_KEY')\n",
        "os.environ['OPENAI_MODEL_NAME'] = \"gpt-3.5-turbo\""
      ],
      "metadata": {
        "id": "SwQGcSl3Rp36"
      },
      "execution_count": 4,
      "outputs": []
    },
    {
      "cell_type": "code",
      "source": [
        "planner = Agent(\n",
        "    role=\"Content Planner\",\n",
        "    goal=\"Plan engaging and factually accurate content on {topic}\",\n",
        "    backstory=\"You're working on planning a blog article \"\n",
        "              \"about the topic: {topic}. \"\n",
        "              \"You collect information that helps the \"\n",
        "              \"audience learn something \"\n",
        "              \"and make informed decisions. \"\n",
        "              \"Your work is the basis for \"\n",
        "              \"the Content Writer to write an article on this topic.\",\n",
        "    allow_delegation=False,\n",
        "\tverbose=True\n",
        ")\n",
        "\n",
        "writer = Agent(\n",
        "    role=\"Content Writer\",\n",
        "    goal=\"Write insightful and factually accurate \"\n",
        "         \"opinion piece about the topic: {topic}\",\n",
        "    backstory=\"You're working on a writing \"\n",
        "              \"a new opinion piece about the topic: {topic}. \"\n",
        "              \"You base your writing on the work of \"\n",
        "              \"the Content Planner, who provides an outline \"\n",
        "              \"and relevant context about the topic. \"\n",
        "              \"You follow the main objectives and \"\n",
        "              \"direction of the outline, \"\n",
        "              \"as provide by the Content Planner. \"\n",
        "              \"You also provide objective and impartial insights \"\n",
        "              \"and back them up with information \"\n",
        "              \"provide by the Content Planner. \"\n",
        "              \"You acknowledge in your opinion piece \"\n",
        "              \"when your statements are opinions \"\n",
        "              \"as opposed to objective statements.\",\n",
        "    allow_delegation=False,\n",
        "    verbose=True\n",
        ")\n",
        "\n",
        "editor = Agent(\n",
        "    role=\"Editor\",\n",
        "    goal=\"Edit a given blog post to align with \"\n",
        "         \"the writing style of the organization. \",\n",
        "    backstory=\"You are an editor who receives a blog post \"\n",
        "              \"from the Content Writer. \"\n",
        "              \"Your goal is to review the blog post \"\n",
        "              \"to ensure that it follows journalistic best practices,\"\n",
        "              \"provides balanced viewpoints \"\n",
        "              \"when providing opinions or assertions, \"\n",
        "              \"and also avoids major controversial topics \"\n",
        "              \"or opinions when possible.\",\n",
        "    allow_delegation=False,\n",
        "    verbose=True\n",
        ")"
      ],
      "metadata": {
        "id": "tLu6QX4wSlZE"
      },
      "execution_count": 7,
      "outputs": []
    },
    {
      "cell_type": "code",
      "source": [
        "plan = Task(\n",
        "    description=(\n",
        "        \"1. Prioritize the latest trends, key players, \"\n",
        "            \"and noteworthy news on {topic}.\\n\"\n",
        "        \"2. Identify the target audience, considering \"\n",
        "            \"their interests and pain points.\\n\"\n",
        "        \"3. Develop a detailed content outline including \"\n",
        "            \"an introduction, key points, and a call to action.\\n\"\n",
        "        \"4. Include SEO keywords and relevant data or sources.\"\n",
        "    ),\n",
        "    expected_output=\"A comprehensive content plan document \"\n",
        "        \"with an outline, audience analysis, \"\n",
        "        \"SEO keywords, and resources.\",\n",
        "    agent=planner,\n",
        ")\n",
        "\n",
        "write = Task(\n",
        "    description=(\n",
        "        \"1. Use the content plan to craft a compelling \"\n",
        "            \"blog post on {topic}.\\n\"\n",
        "        \"2. Incorporate SEO keywords naturally.\\n\"\n",
        "\t\t\"3. Sections/Subtitles are properly named \"\n",
        "            \"in an engaging manner.\\n\"\n",
        "        \"4. Ensure the post is structured with an \"\n",
        "            \"engaging introduction, insightful body, \"\n",
        "            \"and a summarizing conclusion.\\n\"\n",
        "        \"5. Proofread for grammatical errors and \"\n",
        "            \"alignment with the brand's voice.\\n\"\n",
        "    ),\n",
        "    expected_output=\"A well-written blog post \"\n",
        "        \"in markdown format, ready for publication, \"\n",
        "        \"each section should have 2 or 3 paragraphs.\",\n",
        "    agent=writer,\n",
        ")\n",
        "\n",
        "edit = Task(\n",
        "    description=(\"Proofread the given blog post for \"\n",
        "                 \"grammatical errors and \"\n",
        "                 \"alignment with the brand's voice.\"),\n",
        "    expected_output=\"A well-written blog post in markdown format, \"\n",
        "                    \"ready for publication, \"\n",
        "                    \"each section should have 2 or 3 paragraphs.\",\n",
        "    agent=editor\n",
        ")"
      ],
      "metadata": {
        "id": "nJr5CJlwUGNH"
      },
      "execution_count": 8,
      "outputs": []
    },
    {
      "cell_type": "code",
      "source": [
        "crew = Crew(\n",
        "    agents=[planner, writer, editor],\n",
        "    tasks=[plan, write, edit],\n",
        "    verbose=True\n",
        ")"
      ],
      "metadata": {
        "id": "zTjCKfuAUTsX"
      },
      "execution_count": 10,
      "outputs": []
    },
    {
      "cell_type": "code",
      "source": [
        "result = crew.kickoff(inputs={\"topic\": \"Artificial Intelligence\"})"
      ],
      "metadata": {
        "colab": {
          "base_uri": "https://localhost:8080/"
        },
        "id": "EjwMVIUBVVtQ",
        "outputId": "ca38cc45-fd2e-4d75-aed9-8ee92b12b914"
      },
      "execution_count": 11,
      "outputs": [
        {
          "output_type": "stream",
          "name": "stdout",
          "text": [
            "\u001b[1m\u001b[95m# Agent:\u001b[00m \u001b[1m\u001b[92mContent Planner\u001b[00m\n",
            "\u001b[95m## Task:\u001b[00m \u001b[92m1. Prioritize the latest trends, key players, and noteworthy news on Artificial Intelligence.\n",
            "2. Identify the target audience, considering their interests and pain points.\n",
            "3. Develop a detailed content outline including an introduction, key points, and a call to action.\n",
            "4. Include SEO keywords and relevant data or sources.\u001b[00m\n",
            "\n",
            "\n",
            "\u001b[1m\u001b[95m# Agent:\u001b[00m \u001b[1m\u001b[92mContent Planner\u001b[00m\n",
            "\u001b[95m## Final Answer:\u001b[00m \u001b[92m\n",
            "Content Plan on Artificial Intelligence:\n",
            "\n",
            "1. Introduction:\n",
            "   - Brief explanation of Artificial Intelligence and its applications\n",
            "   - Statement about the significance of AI in today's world\n",
            "\n",
            "2. Latest Trends and Key Players:\n",
            "   - Trends: Discuss advancements in AI like machine learning, natural language processing, robotics, etc.\n",
            "   - Key Players: Highlight companies leading in AI innovation such as Google, Amazon, IBM, etc.\n",
            "   - Noteworthy News: Include recent developments or breakthroughs in the field of AI\n",
            "\n",
            "3. Target Audience Analysis:\n",
            "   - Target Audience: Tech enthusiasts, business leaders, students, and professionals looking to understand AI\n",
            "   - Interests: Interest in emerging technologies, automation, data science, and future possibilities of AI\n",
            "   - Pain Points: Lack of understanding about AI, confusion over the ethical implications, fear of AI replacing jobs\n",
            "\n",
            "4. Detailed Content Outline:\n",
            "   - Introduction to AI\n",
            "   - Overview of AI technologies and applications\n",
            "   - Latest trends in AI including machine learning, deep learning, etc.\n",
            "   - Key players in the AI industry and their contributions\n",
            "   - Noteworthy news and recent advancements in AI\n",
            "   - Ethical considerations and societal impact of AI\n",
            "   - Future of AI and its potential implications\n",
            "   - Call to Action: Encourage readers to explore more about AI, learn new skills, or stay updated with AI news\n",
            "\n",
            "5. SEO Keywords:\n",
            "   - Artificial Intelligence, AI trends, machine learning, key players in AI, latest AI news, future of AI, ethical AI, AI impact\n",
            "   - Include both short-tail and long-tail keywords related to AI to maximize search visibility\n",
            "\n",
            "6. Resources:\n",
            "   - Reliable sources like research papers, industry reports, news articles from reputable sites, and AI-specific platforms like OpenAI, MIT AI Lab, etc.\n",
            "   - Useful data and statistics from trusted sources to strengthen the content's credibility\n",
            "\n",
            "By following this comprehensive content plan, the blog article on Artificial Intelligence will provide valuable insights for the target audience, address their interests and pain points, and optimize it for search engine visibility through relevant SEO keywords and credible resources.\u001b[00m\n",
            "\n",
            "\n",
            "\u001b[1m\u001b[95m# Agent:\u001b[00m \u001b[1m\u001b[92mContent Writer\u001b[00m\n",
            "\u001b[95m## Task:\u001b[00m \u001b[92m1. Use the content plan to craft a compelling blog post on Artificial Intelligence.\n",
            "2. Incorporate SEO keywords naturally.\n",
            "3. Sections/Subtitles are properly named in an engaging manner.\n",
            "4. Ensure the post is structured with an engaging introduction, insightful body, and a summarizing conclusion.\n",
            "5. Proofread for grammatical errors and alignment with the brand's voice.\n",
            "\u001b[00m\n",
            "\n",
            "\n",
            "\u001b[1m\u001b[95m# Agent:\u001b[00m \u001b[1m\u001b[92mContent Writer\u001b[00m\n",
            "\u001b[95m## Final Answer:\u001b[00m \u001b[92m\n",
            "# The Unfolding World of Artificial Intelligence\n",
            "\n",
            "## Introduction\n",
            "Artificial Intelligence (AI) is revolutionizing industries across the globe with its ability to mimic human cognitive functions in machines. From voice assistants to autonomous vehicles, AI's applications are vast and transformative. In today's world, the significance of AI cannot be overstated. It not only drives efficiency and productivity but also opens up new possibilities for innovation and advancement.\n",
            "\n",
            "## Latest Trends and Key Players\n",
            "The field of AI is seeing rapid advancements in technologies such as machine learning, natural language processing, robotics, and more. Machine learning, a subset of AI, allows systems to learn and improve from experience without being explicitly programmed. Companies like Google, Amazon, IBM, and others are at the forefront of AI innovation, constantly pushing the boundaries of what's possible. Recent breakthroughs include advancements in deep learning models, enabling AI to process vast amounts of data and make complex decisions.\n",
            "\n",
            "## Target Audience Analysis\n",
            "For tech enthusiasts, business leaders, students, and professionals curious about AI, understanding its application and implications is crucial. These individuals are interested in emerging technologies, automation, data science, and pondering the future possibilities that AI brings. However, many face challenges like a lack of understanding about AI, ethical concerns, and fear of AI's impact on the job market.\n",
            "\n",
            "## Detailed Content Outline\n",
            "- *Introduction to AI*: Providing a foundational understanding of AI for beginners.\n",
            "- *Overview of AI technologies and applications*: Exploring how AI is integrated into various sectors.\n",
            "- *Latest trends in AI*: Delving into machine learning, deep learning, and other cutting-edge advancements.\n",
            "- *Key players in the AI industry*: Highlighting the top companies leading AI innovation.\n",
            "- *Noteworthy news and recent advancements in AI*: Showcasing the latest developments shaping the AI landscape.\n",
            "- *Ethical considerations and societal impact of AI*: Addressing the ethical dilemmas and broader societal implications of AI.\n",
            "- *Future of AI and its potential implications*: Speculating on the trajectory AI might take in the coming years.\n",
            "- *Call to Action*: Encouraging readers to delve deeper into AI, acquire new skills, or stay informed on AI trends.\n",
            "\n",
            "## SEO Keywords\n",
            "Artificial Intelligence, AI trends, machine learning, key players in AI, latest AI news, future of AI, ethical AI, AI impact - these keywords play a vital role in ensuring the visibility of the article to those seeking information on AI-related topics.\n",
            "\n",
            "## Resources\n",
            "To maintain credibility and provide accurate information, the article will draw from reputable sources such as research papers, industry reports, and news articles. Additionally, statistics from trusted sources will be incorporated to reinforce the content's reliability.\n",
            "\n",
            "In conclusion, this blog post aims to shed light on the dynamic world of AI, catering to a diverse audience eager to explore this cutting-edge technology. By addressing current trends, key players, and ethical considerations, the article seeks to engage readers and prompt further exploration into the realm of Artificial Intelligence.\u001b[00m\n",
            "\n",
            "\n",
            "\u001b[1m\u001b[95m# Agent:\u001b[00m \u001b[1m\u001b[92mEditor\u001b[00m\n",
            "\u001b[95m## Task:\u001b[00m \u001b[92mProofread the given blog post for grammatical errors and alignment with the brand's voice.\u001b[00m\n",
            "\n",
            "\n",
            "\u001b[1m\u001b[95m# Agent:\u001b[00m \u001b[1m\u001b[92mEditor\u001b[00m\n",
            "\u001b[95m## Final Answer:\u001b[00m \u001b[92m\n",
            "# The Unfolding World of Artificial Intelligence\n",
            "\n",
            "## Introduction\n",
            "Artificial Intelligence (AI) is revolutionizing industries across the globe with its ability to mimic human cognitive functions in machines. From voice assistants to autonomous vehicles, AI's applications are vast and transformative. In today's world, the significance of AI cannot be overstated. It not only drives efficiency and productivity but also opens up new possibilities for innovation and advancement.\n",
            "\n",
            "## Latest Trends and Key Players\n",
            "The field of AI is seeing rapid advancements in technologies such as machine learning, natural language processing, robotics, and more. Machine learning, a subset of AI, allows systems to learn and improve from experience without being explicitly programmed. Companies like Google, Amazon, IBM, and others are at the forefront of AI innovation, constantly pushing the boundaries of what's possible. Recent breakthroughs include advancements in deep learning models, enabling AI to process vast amounts of data and make complex decisions.\n",
            "\n",
            "## Target Audience Analysis\n",
            "For tech enthusiasts, business leaders, students, and professionals curious about AI, understanding its application and implications is crucial. These individuals are interested in emerging technologies, automation, data science, and pondering the future possibilities that AI brings. However, many face challenges like a lack of understanding about AI, ethical concerns, and fear of AI's impact on the job market.\n",
            "\n",
            "## Detailed Content Outline\n",
            "- *Introduction to AI*: Providing a foundational understanding of AI for beginners.\n",
            "- *Overview of AI technologies and applications*: Exploring how AI is integrated into various sectors.\n",
            "- *Latest trends in AI*: Delving into machine learning, deep learning, and other cutting-edge advancements.\n",
            "- *Key players in the AI industry*: Highlighting the top companies leading AI innovation.\n",
            "- *Noteworthy news and recent advancements in AI*: Showcasing the latest developments shaping the AI landscape.\n",
            "- *Ethical considerations and societal impact of AI*: Addressing the ethical dilemmas and broader societal implications of AI.\n",
            "- *Future of AI and its potential implications*: Speculating on the trajectory AI might take in the coming years.\n",
            "- *Call to Action*: Encouraging readers to delve deeper into AI, acquire new skills, or stay informed on AI trends.\n",
            "\n",
            "## SEO Keywords\n",
            "Artificial Intelligence, AI trends, machine learning, key players in AI, latest AI news, future of AI, ethical AI, AI impact - these keywords play a vital role in ensuring the visibility of the article to those seeking information on AI-related topics.\n",
            "\n",
            "## Resources\n",
            "To maintain credibility and provide accurate information, the article will draw from reputable sources such as research papers, industry reports, and news articles. Additionally, statistics from trusted sources will be incorporated to reinforce the content's reliability.\n",
            "\n",
            "In conclusion, this blog post aims to shed light on the dynamic world of AI, catering to a diverse audience eager to explore this cutting-edge technology. By addressing current trends, key players, and ethical considerations, the article seeks to engage readers and prompt further exploration into the realm of Artificial Intelligence.\u001b[00m\n",
            "\n",
            "\n"
          ]
        }
      ]
    },
    {
      "cell_type": "code",
      "source": [
        "Markdown(result.raw)"
      ],
      "metadata": {
        "colab": {
          "base_uri": "https://localhost:8080/",
          "height": 813
        },
        "id": "Ejx5Y87jV2AO",
        "outputId": "c477a47d-ba4d-4a73-f49b-c4b11a58897c"
      },
      "execution_count": 28,
      "outputs": [
        {
          "output_type": "execute_result",
          "data": {
            "text/plain": [
              "<IPython.core.display.Markdown object>"
            ],
            "text/markdown": "# The Unfolding World of Artificial Intelligence\n\n## Introduction\nArtificial Intelligence (AI) is revolutionizing industries across the globe with its ability to mimic human cognitive functions in machines. From voice assistants to autonomous vehicles, AI's applications are vast and transformative. In today's world, the significance of AI cannot be overstated. It not only drives efficiency and productivity but also opens up new possibilities for innovation and advancement.\n\n## Latest Trends and Key Players\nThe field of AI is seeing rapid advancements in technologies such as machine learning, natural language processing, robotics, and more. Machine learning, a subset of AI, allows systems to learn and improve from experience without being explicitly programmed. Companies like Google, Amazon, IBM, and others are at the forefront of AI innovation, constantly pushing the boundaries of what's possible. Recent breakthroughs include advancements in deep learning models, enabling AI to process vast amounts of data and make complex decisions.\n\n## Target Audience Analysis\nFor tech enthusiasts, business leaders, students, and professionals curious about AI, understanding its application and implications is crucial. These individuals are interested in emerging technologies, automation, data science, and pondering the future possibilities that AI brings. However, many face challenges like a lack of understanding about AI, ethical concerns, and fear of AI's impact on the job market.\n\n## Detailed Content Outline\n- *Introduction to AI*: Providing a foundational understanding of AI for beginners.\n- *Overview of AI technologies and applications*: Exploring how AI is integrated into various sectors.\n- *Latest trends in AI*: Delving into machine learning, deep learning, and other cutting-edge advancements.\n- *Key players in the AI industry*: Highlighting the top companies leading AI innovation.\n- *Noteworthy news and recent advancements in AI*: Showcasing the latest developments shaping the AI landscape.\n- *Ethical considerations and societal impact of AI*: Addressing the ethical dilemmas and broader societal implications of AI.\n- *Future of AI and its potential implications*: Speculating on the trajectory AI might take in the coming years.\n- *Call to Action*: Encouraging readers to delve deeper into AI, acquire new skills, or stay informed on AI trends.\n\n## SEO Keywords\nArtificial Intelligence, AI trends, machine learning, key players in AI, latest AI news, future of AI, ethical AI, AI impact - these keywords play a vital role in ensuring the visibility of the article to those seeking information on AI-related topics.\n\n## Resources\nTo maintain credibility and provide accurate information, the article will draw from reputable sources such as research papers, industry reports, and news articles. Additionally, statistics from trusted sources will be incorporated to reinforce the content's reliability.\n\nIn conclusion, this blog post aims to shed light on the dynamic world of AI, catering to a diverse audience eager to explore this cutting-edge technology. By addressing current trends, key players, and ethical considerations, the article seeks to engage readers and prompt further exploration into the realm of Artificial Intelligence."
          },
          "metadata": {},
          "execution_count": 28
        }
      ]
    }
  ]
}